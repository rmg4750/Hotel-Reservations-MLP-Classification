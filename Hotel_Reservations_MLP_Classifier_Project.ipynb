{
  "cells": [
    {
      "cell_type": "code",
      "execution_count": 1,
      "metadata": {
        "id": "KDAdruSlU2yv"
      },
      "outputs": [],
      "source": [
        "import pandas as pd\n",
        "import numpy as np\n",
        "import matplotlib.pyplot as plt\n",
        "import seaborn as sns"
      ]
    },
    {
      "cell_type": "markdown",
      "source": [
        "Data Preprocessing"
      ],
      "metadata": {
        "id": "8Jl5IGMVIkdM"
      }
    },
    {
      "cell_type": "code",
      "execution_count": 2,
      "metadata": {
        "colab": {
          "base_uri": "https://localhost:8080/"
        },
        "id": "tVo4eJdEXyko",
        "outputId": "89b14277-c48d-47c2-d6b7-6fd44e726cde"
      },
      "outputs": [
        {
          "output_type": "execute_result",
          "data": {
            "text/plain": [
              "36275"
            ]
          },
          "metadata": {},
          "execution_count": 2
        }
      ],
      "source": [
        "ogdata = pd.read_csv(\"Hotel Reservations.csv\")\n",
        "\n",
        "ogdata.head()\n",
        "\n",
        "len(ogdata.index)"
      ]
    },
    {
      "cell_type": "code",
      "execution_count": 3,
      "metadata": {
        "colab": {
          "base_uri": "https://localhost:8080/"
        },
        "id": "S18kQyVp9SHE",
        "outputId": "471bc57d-2a09-411e-983a-859ccef1edda"
      },
      "outputs": [
        {
          "output_type": "execute_result",
          "data": {
            "text/plain": [
              "36275"
            ]
          },
          "metadata": {},
          "execution_count": 3
        }
      ],
      "source": [
        "ogdata = ogdata.dropna()\n",
        "\n",
        "len(ogdata.index)"
      ]
    },
    {
      "cell_type": "code",
      "execution_count": 4,
      "metadata": {
        "colab": {
          "base_uri": "https://localhost:8080/",
          "height": 299
        },
        "id": "TQijUxu392Hw",
        "outputId": "2b2291bb-4fdb-4ca3-d4af-647ca3b83f8b"
      },
      "outputs": [
        {
          "output_type": "execute_result",
          "data": {
            "text/plain": [
              "<matplotlib.axes._subplots.AxesSubplot at 0x7f9f1da44550>"
            ]
          },
          "metadata": {},
          "execution_count": 4
        },
        {
          "output_type": "display_data",
          "data": {
            "text/plain": [
              "<Figure size 432x288 with 1 Axes>"
            ],
            "image/png": "[encoded data removed]"
          },
          "metadata": {
            "needs_background": "light"
          }
        }
      ],
      "source": [
        "sns.countplot(x = ogdata[\"booking_status\"])"
      ]
    },
    {
      "cell_type": "markdown",
      "source": [
        "They usually only let adults book hotel rooms so we can check to see how many rows have the number of adults equal to zero."
      ],
      "metadata": {
        "id": "-OL34xmGVHWI"
      }
    },
    {
      "cell_type": "code",
      "execution_count": 5,
      "metadata": {
        "colab": {
          "base_uri": "https://localhost:8080/"
        },
        "id": "gZw-9lsoCoVA",
        "outputId": "98a8db8f-d9f4-41bd-f086-da5f176e8283"
      },
      "outputs": [
        {
          "output_type": "stream",
          "name": "stdout",
          "text": [
            "139\n"
          ]
        }
      ],
      "source": [
        "count = 0\n",
        "for i in ogdata['no_of_adults']:\n",
        "  \n",
        "  if i == 0:\n",
        "    count = count + 1\n",
        "\n",
        "print(count)"
      ]
    },
    {
      "cell_type": "code",
      "execution_count": 6,
      "metadata": {
        "id": "sf_DpSQBZapM"
      },
      "outputs": [],
      "source": [
        "data = ogdata[[\"no_of_weekend_nights\", \"no_of_week_nights\", \"room_type_reserved\", \"lead_time\", \"avg_price_per_room\", \"booking_status\"]]\n",
        "\n",
        "X = data.iloc[:, :-1].values\n",
        "y = data.iloc[:, -1].values"
      ]
    },
    {
      "cell_type": "code",
      "execution_count": 7,
      "metadata": {
        "colab": {
          "base_uri": "https://localhost:8080/"
        },
        "id": "FDdbhB6seZrD",
        "outputId": "cf964d08-2e03-4031-8024-3dbe4239c7cb"
      },
      "outputs": [
        {
          "output_type": "stream",
          "name": "stdout",
          "text": [
            "[[1 2 'Room_Type 1' 224 65.0]\n",
            " [2 3 'Room_Type 1' 5 106.68]\n",
            " [2 1 'Room_Type 1' 1 60.0]\n",
            " ...\n",
            " [2 6 'Room_Type 1' 148 98.39]\n",
            " [0 3 'Room_Type 1' 63 94.5]\n",
            " [1 2 'Room_Type 1' 207 161.67]]\n"
          ]
        }
      ],
      "source": [
        "print(X)"
      ]
    },
    {
      "cell_type": "code",
      "execution_count": 8,
      "metadata": {
        "colab": {
          "base_uri": "https://localhost:8080/"
        },
        "id": "RLY6o_q7ecYM",
        "outputId": "2cff1773-9380-447b-9562-14936ad70121"
      },
      "outputs": [
        {
          "output_type": "stream",
          "name": "stdout",
          "text": [
            "['Not_Canceled' 'Not_Canceled' 'Canceled' ... 'Not_Canceled' 'Canceled'\n",
            " 'Not_Canceled']\n"
          ]
        }
      ],
      "source": [
        "print(y)"
      ]
    },
    {
      "cell_type": "code",
      "execution_count": 9,
      "metadata": {
        "colab": {
          "base_uri": "https://localhost:8080/"
        },
        "id": "bpp0g6GbanGa",
        "outputId": "94328392-2f7a-4168-878b-ad5ddba80763"
      },
      "outputs": [
        {
          "output_type": "stream",
          "name": "stdout",
          "text": [
            "[[1.0 0.0 0.0 ... 2 224 65.0]\n",
            " [1.0 0.0 0.0 ... 3 5 106.68]\n",
            " [1.0 0.0 0.0 ... 1 1 60.0]\n",
            " ...\n",
            " [1.0 0.0 0.0 ... 6 148 98.39]\n",
            " [1.0 0.0 0.0 ... 3 63 94.5]\n",
            " [1.0 0.0 0.0 ... 2 207 161.67]]\n"
          ]
        }
      ],
      "source": [
        "from sklearn.compose import ColumnTransformer\n",
        "from sklearn.preprocessing import OneHotEncoder\n",
        "ct = ColumnTransformer(transformers=[('encoder', OneHotEncoder(), [2])], remainder='passthrough')\n",
        "X = np.array(ct.fit_transform(X))\n",
        "\n",
        "print(X)"
      ]
    },
    {
      "cell_type": "code",
      "execution_count": 10,
      "metadata": {
        "colab": {
          "base_uri": "https://localhost:8080/"
        },
        "id": "lZ-ors8RfE4-",
        "outputId": "e71b2bb8-3cec-48bb-f9dc-42d4c026e5d3"
      },
      "outputs": [
        {
          "output_type": "stream",
          "name": "stdout",
          "text": [
            "[1 1 0 ... 1 0 1]\n"
          ]
        }
      ],
      "source": [
        "from sklearn.preprocessing import LabelEncoder\n",
        "le = LabelEncoder()\n",
        "y = le.fit_transform(y)\n",
        "\n",
        "print(y)"
      ]
    },
    {
      "cell_type": "code",
      "execution_count": 14,
      "metadata": {
        "id": "S18uER8ifR82"
      },
      "outputs": [],
      "source": [
        "from sklearn.model_selection import train_test_split\n",
        "X_train, X_test, y_train, y_test = train_test_split(X, y, test_size = 0.3, random_state = 42)"
      ]
    },
    {
      "cell_type": "code",
      "execution_count": 15,
      "metadata": {
        "id": "GgJRvdlEGmyl"
      },
      "outputs": [],
      "source": [
        "from sklearn.preprocessing import StandardScaler\n",
        "sc = StandardScaler()\n",
        "X_train = sc.fit_transform(X_train)\n",
        "X_test = sc.transform(X_test)"
      ]
    },
    {
      "cell_type": "markdown",
      "source": [
        "Fitting the model"
      ],
      "metadata": {
        "id": "txkHEVcMJL8F"
      }
    },
    {
      "cell_type": "code",
      "execution_count": 16,
      "metadata": {
        "colab": {
          "base_uri": "https://localhost:8080/"
        },
        "id": "_ZSZ045HfaqY",
        "outputId": "c7bd1c71-53b4-433e-d6f2-4d0fe15bb67d"
      },
      "outputs": [
        {
          "output_type": "execute_result",
          "data": {
            "text/plain": [
              "MLPClassifier(max_iter=500, random_state=42)"
            ]
          },
          "metadata": {},
          "execution_count": 16
        }
      ],
      "source": [
        "from sklearn.neural_network import MLPClassifier\n",
        "mlp = MLPClassifier(max_iter = 500, random_state = 42)\n",
        "mlp.fit(X_train, y_train)\n"
      ]
    },
    {
      "cell_type": "code",
      "execution_count": 17,
      "metadata": {
        "id": "ohFr6YTGg5Dq"
      },
      "outputs": [],
      "source": [
        "pred = mlp.predict(X_test)"
      ]
    },
    {
      "cell_type": "code",
      "execution_count": 18,
      "metadata": {
        "colab": {
          "base_uri": "https://localhost:8080/"
        },
        "id": "I3ba15KRgQgR",
        "outputId": "90f4b201-f4dd-4712-d678-95c5f2981631"
      },
      "outputs": [
        {
          "output_type": "execute_result",
          "data": {
            "text/plain": [
              "array([[1604, 2003],\n",
              "       [ 511, 6765]])"
            ]
          },
          "metadata": {},
          "execution_count": 18
        }
      ],
      "source": [
        "from sklearn.metrics import confusion_matrix, classification_report\n",
        "confusion_matrix(y_test, pred)"
      ]
    },
    {
      "cell_type": "code",
      "execution_count": 19,
      "metadata": {
        "colab": {
          "base_uri": "https://localhost:8080/"
        },
        "id": "gi4_ecHIhjPQ",
        "outputId": "68111456-7165-4fe8-e028-fd28e1b392ea"
      },
      "outputs": [
        {
          "output_type": "stream",
          "name": "stdout",
          "text": [
            "              precision    recall  f1-score   support\n",
            "\n",
            "           0       0.76      0.44      0.56      3607\n",
            "           1       0.77      0.93      0.84      7276\n",
            "\n",
            "    accuracy                           0.77     10883\n",
            "   macro avg       0.76      0.69      0.70     10883\n",
            "weighted avg       0.77      0.77      0.75     10883\n",
            "\n"
          ]
        }
      ],
      "source": [
        "print(classification_report(y_test,pred))"
      ]
    },
    {
      "cell_type": "code",
      "execution_count": 20,
      "metadata": {
        "colab": {
          "base_uri": "https://localhost:8080/"
        },
        "id": "A9-oUfxAJA9y",
        "outputId": "1228d7fe-7fbc-44b6-906e-c1217c06139b"
      },
      "outputs": [
        {
          "output_type": "execute_result",
          "data": {
            "text/plain": [
              "0.6872299913749653"
            ]
          },
          "metadata": {},
          "execution_count": 20
        }
      ],
      "source": [
        "from sklearn.metrics import roc_auc_score\n",
        "roc_auc_score(y_test, pred)"
      ]
    }
  ],
  "metadata": {
    "colab": {
      "provenance": []
    },
    "kernelspec": {
      "display_name": "Python 3",
      "name": "python3"
    },
    "language_info": {
      "name": "python"
    }
  },
  "nbformat": 4,
  "nbformat_minor": 0
}